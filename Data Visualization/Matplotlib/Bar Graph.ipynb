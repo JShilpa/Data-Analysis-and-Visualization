{
 "cells": [
  {
   "cell_type": "code",
   "execution_count": 6,
   "metadata": {},
   "outputs": [],
   "source": [
    "#Import Matplotlib\n",
    "\n",
    "import matplotlib.pyplot as plt\n",
    "\n",
    "%matplotlib inline"
   ]
  },
  {
   "cell_type": "code",
   "execution_count": 8,
   "metadata": {},
   "outputs": [
    {
     "data": {
      "image/png": "[encoded data removed]",
      "text/plain": [
       "<matplotlib.figure.Figure at 0x1c64e1185f8>"
      ]
     },
     "metadata": {},
     "output_type": "display_data"
    }
   ],
   "source": [
    "# Assign data for bar graphs\n",
    "\n",
    "plt.bar([1,3,5,7,9], [5,2,7,8,2], label = \"Group 1\")\n",
    "\n",
    "plt.bar([2,4,6,8,10],[8,6,2,5,6], label=\"Group 2\", color=\"green\")\n",
    "\n",
    "# Positioning legends to the upper center side\n",
    "\n",
    "plt.legend(loc='upper center')\n",
    "\n",
    "#Adding Title and labels\n",
    "plt.title('Bar Graph Example')\n",
    "\n",
    "plt.ylabel('Y Axis')\n",
    "\n",
    "plt.xlabel('X Axis')\n",
    "\n",
    "plt.show()"
   ]
  }
 ],
 "metadata": {
  "kernelspec": {
   "display_name": "Python 3",
   "language": "python",
   "name": "python3"
  },
  "language_info": {
   "codemirror_mode": {
    "name": "ipython",
    "version": 3
   },
   "file_extension": ".py",
   "mimetype": "text/x-python",
   "name": "python",
   "nbconvert_exporter": "python",
   "pygments_lexer": "ipython3",
   "version": "3.6.3"
  }
 },
 "nbformat": 4,
 "nbformat_minor": 2
}
