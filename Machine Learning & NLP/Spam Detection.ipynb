{
 "cells": [
  {
   "cell_type": "markdown",
   "metadata": {},
   "source": [
    "NLP (Natural Language Processing) For Spam detection\n",
    "\n",
    "Part 1: Data\n",
    "\n",
    "Part 2: Text Pre-Processing\n",
    "\n",
    "Part 3: Vectorization\n",
    "\n",
    "Part 4: Naive Bayes Model Evaluation\n",
    "\n",
    "Part 5: Testing It On A example\n"
   ]
  },
  {
   "cell_type": "markdown",
   "metadata": {},
   "source": [
    "#### Part 1: Data"
   ]
  },
  {
   "cell_type": "code",
   "execution_count": 6,
   "metadata": {},
   "outputs": [
    {
     "name": "stdout",
     "output_type": "stream",
     "text": [
      "5574\n"
     ]
    }
   ],
   "source": [
    "# Requirements: NLTK installed along with corpus for stopwords\n",
    "# Download SMS Spam Dataset from here: https://archive.ics.uci.edu/ml/datasets/SMS+Spam+Collection\n",
    "# Extract and save it in same working directory. Type pwd to see working directory\n",
    "# Reading the Data from File. Has more than 5000 sms spam messages.\n",
    "\n",
    "messages = [line.rstrip() for line in open('smsspamcollection/SMSSpamCollection')]\n",
    "print(len(messages))"
   ]
  },
  {
   "cell_type": "code",
   "execution_count": 3,
   "metadata": {},
   "outputs": [
    {
     "data": {
      "text/html": [
       "<div>\n",
       "<style scoped>\n",
       "    .dataframe tbody tr th:only-of-type {\n",
       "        vertical-align: middle;\n",
       "    }\n",
       "\n",
       "    .dataframe tbody tr th {\n",
       "        vertical-align: top;\n",
       "    }\n",
       "\n",
       "    .dataframe thead th {\n",
       "        text-align: right;\n",
       "    }\n",
       "</style>\n",
       "<table border=\"1\" class=\"dataframe\">\n",
       "  <thead>\n",
       "    <tr style=\"text-align: right;\">\n",
       "      <th></th>\n",
       "      <th>label</th>\n",
       "      <th>message</th>\n",
       "    </tr>\n",
       "  </thead>\n",
       "  <tbody>\n",
       "    <tr>\n",
       "      <th>0</th>\n",
       "      <td>ham</td>\n",
       "      <td>Go until jurong point, crazy.. Available only ...</td>\n",
       "    </tr>\n",
       "    <tr>\n",
       "      <th>1</th>\n",
       "      <td>ham</td>\n",
       "      <td>Ok lar... Joking wif u oni...</td>\n",
       "    </tr>\n",
       "    <tr>\n",
       "      <th>2</th>\n",
       "      <td>spam</td>\n",
       "      <td>Free entry in 2 a wkly comp to win FA Cup fina...</td>\n",
       "    </tr>\n",
       "    <tr>\n",
       "      <th>3</th>\n",
       "      <td>ham</td>\n",
       "      <td>U dun say so early hor... U c already then say...</td>\n",
       "    </tr>\n",
       "    <tr>\n",
       "      <th>4</th>\n",
       "      <td>ham</td>\n",
       "      <td>Nah I don't think he goes to usf, he lives aro...</td>\n",
       "    </tr>\n",
       "  </tbody>\n",
       "</table>\n",
       "</div>"
      ],
      "text/plain": [
       "  label                                            message\n",
       "0   ham  Go until jurong point, crazy.. Available only ...\n",
       "1   ham                      Ok lar... Joking wif u oni...\n",
       "2  spam  Free entry in 2 a wkly comp to win FA Cup fina...\n",
       "3   ham  U dun say so early hor... U c already then say...\n",
       "4   ham  Nah I don't think he goes to usf, he lives aro..."
      ]
     },
     "execution_count": 3,
     "metadata": {},
     "output_type": "execute_result"
    }
   ],
   "source": [
    "#Standard imports\n",
    "import pandas as pd\n",
    "\n",
    "#Panda method to read data from CSV and add labels to convert into DataFrame\n",
    "messages = pd.read_csv('smsspamcollection/SMSSpamCollection', sep='\\t', names=['label', 'message'])\n",
    "\n",
    "messages.head()"
   ]
  },
  {
   "cell_type": "markdown",
   "metadata": {},
   "source": [
    "#### Part 2: Text Processing\n",
    "\n",
    "1) Remove punctuations from sentences\n",
    "\n",
    "2) Remove Stop Words.\n"
   ]
  },
  {
   "cell_type": "code",
   "execution_count": 31,
   "metadata": {
    "collapsed": true
   },
   "outputs": [],
   "source": [
    "def text_process(mess):\n",
    "    \"\"\"\n",
    "    Takes in a string of text, then performs the following:\n",
    "    1. Remove all punctuation\n",
    "    2. Remove all stopwords\n",
    "    3. Returns a list of the cleaned text\n",
    "    \"\"\"\n",
    "    # Check characters to see if they are in punctuation\n",
    "    nopunc = [char for char in mess if char not in string.punctuation]\n",
    "\n",
    "    # Join the characters again to form the string.\n",
    "    nopunc = ''.join(nopunc)\n",
    "    \n",
    "    # Now just remove any stopwords\n",
    "    return [word for word in nopunc.split() if word.lower() not in stopwords.words('english')]"
   ]
  },
  {
   "cell_type": "code",
   "execution_count": 32,
   "metadata": {},
   "outputs": [
    {
     "data": {
      "text/plain": [
       "0    [Go, jurong, point, crazy, Available, bugis, n...\n",
       "1                       [Ok, lar, Joking, wif, u, oni]\n",
       "2    [Free, entry, 2, wkly, comp, win, FA, Cup, fin...\n",
       "3        [U, dun, say, early, hor, U, c, already, say]\n",
       "4    [Nah, dont, think, goes, usf, lives, around, t...\n",
       "Name: message, dtype: object"
      ]
     },
     "execution_count": 32,
     "metadata": {},
     "output_type": "execute_result"
    }
   ],
   "source": [
    "messages['message'].head(5).apply(text_process)"
   ]
  },
  {
   "cell_type": "markdown",
   "metadata": {},
   "source": [
    "#### Part 3: Vectorization Using TF-IDF\n",
    "\n",
    "Here, we convert the text into vectors(numbers) for computer to analyse."
   ]
  },
  {
   "cell_type": "code",
   "execution_count": 37,
   "metadata": {},
   "outputs": [
    {
     "data": {
      "text/plain": [
       "<1x104967 sparse matrix of type '<class 'numpy.float64'>'\n",
       "\twith 51 stored elements in Compressed Sparse Row format>"
      ]
     },
     "execution_count": 37,
     "metadata": {},
     "output_type": "execute_result"
    }
   ],
   "source": [
    "from sklearn.feature_extraction.text import TfidfVectorizer\n",
    "\n",
    "vectorizer = TfidfVectorizer(use_idf=True, ngram_range=(1, 3))\n",
    "X = vectorizer.fit_transform(messages['message'])\n",
    "\n",
    "X[0]"
   ]
  },
  {
   "cell_type": "code",
   "execution_count": 38,
   "metadata": {},
   "outputs": [
    {
     "name": "stdout",
     "output_type": "stream",
     "text": [
      "  (0, 33323)\t0.06964811198313603\n",
      "  (0, 92177)\t0.10833755405777373\n",
      "  (0, 46426)\t0.15376692251360957\n",
      "  (0, 68459)\t0.12026955655973237\n",
      "  (0, 20910)\t0.11908189665388873\n",
      "  (0, 10391)\t0.11501264329702043\n",
      "  (0, 64211)\t0.07348935881678281\n",
      "  (0, 42085)\t0.050393325538225064\n",
      "  (0, 14457)\t0.12990291750969232\n",
      "  (0, 35018)\t0.08494093271861272\n",
      "  (0, 100459)\t0.10401136696342005\n",
      "  (0, 48003)\t0.12990291750969232\n",
      "  (0, 14449)\t0.14678714849145277\n",
      "  (0, 18506)\t0.12990291750969232\n",
      "  (0, 85357)\t0.07324746854860877\n",
      "  (0, 34496)\t0.07208651809860835\n",
      "  (0, 6017)\t0.15376692251360957\n",
      "  (0, 95423)\t0.08591558399587033\n",
      "  (0, 33650)\t0.15376692251360957\n",
      "  (0, 92193)\t0.15376692251360957\n",
      "  (0, 46427)\t0.15376692251360957\n",
      "  (0, 68464)\t0.15376692251360957\n",
      "  (0, 20916)\t0.15376692251360957\n",
      "  (0, 10409)\t0.15376692251360957\n",
      "  (0, 64328)\t0.14678714849145277\n",
      "  :\t:\n",
      "  (0, 14459)\t0.15376692251360957\n",
      "  (0, 35154)\t0.15376692251360957\n",
      "  (0, 100478)\t0.15376692251360957\n",
      "  (0, 48004)\t0.15376692251360957\n",
      "  (0, 14450)\t0.15376692251360957\n",
      "  (0, 18519)\t0.15376692251360957\n",
      "  (0, 85450)\t0.15376692251360957\n",
      "  (0, 34508)\t0.15376692251360957\n",
      "  (0, 6018)\t0.15376692251360957\n",
      "  (0, 33651)\t0.15376692251360957\n",
      "  (0, 92194)\t0.15376692251360957\n",
      "  (0, 46428)\t0.15376692251360957\n",
      "  (0, 68465)\t0.15376692251360957\n",
      "  (0, 20917)\t0.15376692251360957\n",
      "  (0, 10410)\t0.15376692251360957\n",
      "  (0, 64329)\t0.15376692251360957\n",
      "  (0, 42210)\t0.15376692251360957\n",
      "  (0, 14460)\t0.15376692251360957\n",
      "  (0, 35155)\t0.15376692251360957\n",
      "  (0, 100479)\t0.15376692251360957\n",
      "  (0, 48005)\t0.15376692251360957\n",
      "  (0, 14451)\t0.15376692251360957\n",
      "  (0, 18520)\t0.15376692251360957\n",
      "  (0, 85451)\t0.15376692251360957\n",
      "  (0, 34509)\t0.15376692251360957\n"
     ]
    }
   ],
   "source": [
    "#After\n",
    "print(X[0])"
   ]
  },
  {
   "cell_type": "code",
   "execution_count": 39,
   "metadata": {},
   "outputs": [
    {
     "data": {
      "text/plain": [
       "(5572, 104967)"
      ]
     },
     "execution_count": 39,
     "metadata": {},
     "output_type": "execute_result"
    }
   ],
   "source": [
    "X.shape"
   ]
  },
  {
   "cell_type": "markdown",
   "metadata": {},
   "source": [
    "#### Part 5: Training a Model"
   ]
  },
  {
   "cell_type": "code",
   "execution_count": 44,
   "metadata": {},
   "outputs": [
    {
     "data": {
      "text/plain": [
       "MultinomialNB(alpha=1.0, class_prior=None, fit_prior=True)"
      ]
     },
     "execution_count": 44,
     "metadata": {},
     "output_type": "execute_result"
    }
   ],
   "source": [
    "from sklearn.naive_bayes import MultinomialNB\n",
    "spam_detect_model = MultinomialNB().fit(X, messages['label'])\n",
    "spam_detect_model"
   ]
  },
  {
   "cell_type": "markdown",
   "metadata": {},
   "source": [
    "#### Part 6: Testing It"
   ]
  },
  {
   "cell_type": "code",
   "execution_count": 51,
   "metadata": {},
   "outputs": [
    {
     "name": "stdout",
     "output_type": "stream",
     "text": [
      "['spam']\n"
     ]
    }
   ],
   "source": [
    "import numpy as np\n",
    "\n",
    "sms_msg_array=np.array([\"GENT! Claim Valid 150ppm \"])\n",
    "\n",
    "sms_msg_vector = vectorizer.transform(sms_msg_array)\n",
    "\n",
    "print (spam_detect_model.predict(sms_msg_vector))"
   ]
  }
 ],
 "metadata": {
  "kernelspec": {
   "display_name": "Python 3",
   "language": "python",
   "name": "python3"
  },
  "language_info": {
   "codemirror_mode": {
    "name": "ipython",
    "version": 3
   },
   "file_extension": ".py",
   "mimetype": "text/x-python",
   "name": "python",
   "nbconvert_exporter": "python",
   "pygments_lexer": "ipython3",
   "version": "3.6.3"
  }
 },
 "nbformat": 4,
 "nbformat_minor": 2
}
