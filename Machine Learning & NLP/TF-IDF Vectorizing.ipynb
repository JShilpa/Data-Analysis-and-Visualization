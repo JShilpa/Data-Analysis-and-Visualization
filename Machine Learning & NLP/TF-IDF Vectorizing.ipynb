{
 "cells": [
  {
   "cell_type": "markdown",
   "metadata": {},
   "source": [
    "Computers are not known to be a great number crunchers. But not that good with dealing with text.\n",
    "\n",
    "SO, we make the text computer friendly by turning text int numbers.\n",
    "\n",
    "Generally, when we speak about text, we usually mean corpus.\n",
    "\n",
    "Corpus is nothing but collection of documents.\n",
    "\n"
   ]
  },
  {
   "cell_type": "code",
   "execution_count": 6,
   "metadata": {
    "collapsed": true
   },
   "outputs": [],
   "source": [
    "#Two documents in the Corpus\n",
    "\n",
    "docA= \"The dog sat on my lap\"\n",
    "\n",
    "docB = \"The cat sat on my bed\""
   ]
  },
  {
   "cell_type": "markdown",
   "metadata": {},
   "source": [
    "Generally, we work on text analysis, we use Bag Of Words model to represent a document.\n",
    "\n",
    "Here, each document can be thought as Bag Of Words."
   ]
  },
  {
   "cell_type": "markdown",
   "metadata": {},
   "source": [
    "#### Tokenizing:\n",
    "\n",
    "Here, we're splitting each document into bag of words. Splitting a document into component words is known as tokenizing.\n"
   ]
  },
  {
   "cell_type": "code",
   "execution_count": 7,
   "metadata": {},
   "outputs": [
    {
     "data": {
      "text/plain": [
       "['The', 'cat', 'sat', 'on', 'my', 'bed']"
      ]
     },
     "execution_count": 7,
     "metadata": {},
     "output_type": "execute_result"
    }
   ],
   "source": [
    "bowA = docA.split(' ')\n",
    "bowB = docB.split(' ')\n",
    "\n",
    "bowB"
   ]
  },
  {
   "cell_type": "markdown",
   "metadata": {},
   "source": [
    "Now, we've  to convert these bag of words into numbers.\n",
    "\n",
    "One strategy is to create **vector** of all possible words and for each dpcument count how many times the word occurs."
   ]
  },
  {
   "cell_type": "code",
   "execution_count": 8,
   "metadata": {},
   "outputs": [
    {
     "data": {
      "text/plain": [
       "{'The', 'bed', 'cat', 'dog', 'lap', 'my', 'on', 'sat'}"
      ]
     },
     "execution_count": 8,
     "metadata": {},
     "output_type": "execute_result"
    }
   ],
   "source": [
    "# We use Python's Sets data structure to eliminate dupicates and give us unique words\n",
    "\n",
    "word_set = set(bowA).union(set(bowB))\n",
    "\n",
    "word_set"
   ]
  },
  {
   "cell_type": "code",
   "execution_count": 9,
   "metadata": {},
   "outputs": [
    {
     "data": {
      "text/plain": [
       "{'The': 0, 'bed': 0, 'cat': 0, 'dog': 0, 'lap': 0, 'my': 0, 'on': 0, 'sat': 0}"
      ]
     },
     "execution_count": 9,
     "metadata": {},
     "output_type": "execute_result"
    }
   ],
   "source": [
    "# Create dictionary with each document with unique words found in above sets\n",
    "\n",
    "dictA = dict.fromkeys(word_set, 0)\n",
    "dictB = dict.fromkeys(word_set, 0)\n",
    "\n",
    "dictA"
   ]
  },
  {
   "cell_type": "code",
   "execution_count": 10,
   "metadata": {},
   "outputs": [
    {
     "data": {
      "text/plain": [
       "{'The': 1, 'bed': 0, 'cat': 0, 'dog': 1, 'lap': 1, 'my': 1, 'on': 1, 'sat': 1}"
      ]
     },
     "execution_count": 10,
     "metadata": {},
     "output_type": "execute_result"
    }
   ],
   "source": [
    "# Count words present in each bag and update count in the dict\n",
    "\n",
    "for word in bowA:\n",
    "    dictA[word] += 1\n",
    "\n",
    "for word in bowB:\n",
    "     dictB[word] += 1\n",
    "\n",
    "dictA"
   ]
  },
  {
   "cell_type": "code",
   "execution_count": 10,
   "metadata": {},
   "outputs": [
    {
     "data": {
      "text/html": [
       "<div>\n",
       "<style scoped>\n",
       "    .dataframe tbody tr th:only-of-type {\n",
       "        vertical-align: middle;\n",
       "    }\n",
       "\n",
       "    .dataframe tbody tr th {\n",
       "        vertical-align: top;\n",
       "    }\n",
       "\n",
       "    .dataframe thead th {\n",
       "        text-align: right;\n",
       "    }\n",
       "</style>\n",
       "<table border=\"1\" class=\"dataframe\">\n",
       "  <thead>\n",
       "    <tr style=\"text-align: right;\">\n",
       "      <th></th>\n",
       "      <th>The</th>\n",
       "      <th>bed</th>\n",
       "      <th>cat</th>\n",
       "      <th>dog</th>\n",
       "      <th>lap</th>\n",
       "      <th>my</th>\n",
       "      <th>on</th>\n",
       "      <th>sat</th>\n",
       "    </tr>\n",
       "  </thead>\n",
       "  <tbody>\n",
       "    <tr>\n",
       "      <th>0</th>\n",
       "      <td>1</td>\n",
       "      <td>0</td>\n",
       "      <td>0</td>\n",
       "      <td>1</td>\n",
       "      <td>1</td>\n",
       "      <td>1</td>\n",
       "      <td>1</td>\n",
       "      <td>1</td>\n",
       "    </tr>\n",
       "    <tr>\n",
       "      <th>1</th>\n",
       "      <td>1</td>\n",
       "      <td>1</td>\n",
       "      <td>1</td>\n",
       "      <td>0</td>\n",
       "      <td>0</td>\n",
       "      <td>1</td>\n",
       "      <td>1</td>\n",
       "      <td>1</td>\n",
       "    </tr>\n",
       "  </tbody>\n",
       "</table>\n",
       "</div>"
      ],
      "text/plain": [
       "   The  bed  cat  dog  lap  my  on  sat\n",
       "0    1    0    0    1    1   1   1    1\n",
       "1    1    1    1    0    0   1   1    1"
      ]
     },
     "execution_count": 10,
     "metadata": {},
     "output_type": "execute_result"
    }
   ],
   "source": [
    "import pandas as pd\n",
    "\n",
    "pd.DataFrame([dictA, dictB])\n"
   ]
  },
  {
   "cell_type": "markdown",
   "metadata": {},
   "source": [
    "So, a word problem just got converted into linear algebra problem.\n",
    "\n",
    "But, when we our document matrix out of counts, we end up with numbers which don't have much information"
   ]
  },
  {
   "cell_type": "markdown",
   "metadata": {},
   "source": [
    "#### TF-IDF IS A BETTER STRATEGY:\n",
    "\n",
    "Here, rather than counting words, we use the TF-IDF score of the words to rank its importance.\n",
    "\n",
    "So, the calculate the TF-IDF score of the word, we use the below formula\n",
    "\n",
    "                term frequency of word * inverse document frequency of the word\n",
    "\n",
    "                tf(w) * idf(w) \n",
    "\n",
    "Luckily for us, we've TD-IDF built in most of languages, Sklearn or libraries. So we don't have to write below implementation evrytime we've to use TF-IDF.\n"
   ]
  },
  {
   "cell_type": "markdown",
   "metadata": {},
   "source": [
    "#### Let's start with Calculating Term Frequency of the word. \n",
    "\n",
    "The formula to calculate term frequency is:\n",
    "\n",
    "No of times word appears in the document/ total number of words in the document."
   ]
  },
  {
   "cell_type": "code",
   "execution_count": 11,
   "metadata": {
    "collapsed": true
   },
   "outputs": [],
   "source": [
    "def compute_term_frequency(word_dict, bow):\n",
    "    tf_dict = {}\n",
    "    total_no = len(bow)\n",
    "    for word, count in word_dict.items():\n",
    "        tf_dict[word] = count/total_no\n",
    "    return tf_dict\n",
    "    "
   ]
  },
  {
   "cell_type": "code",
   "execution_count": 12,
   "metadata": {},
   "outputs": [
    {
     "data": {
      "text/plain": [
       "{'The': 0.16666666666666666,\n",
       " 'bed': 0.0,\n",
       " 'cat': 0.0,\n",
       " 'dog': 0.16666666666666666,\n",
       " 'lap': 0.16666666666666666,\n",
       " 'my': 0.16666666666666666,\n",
       " 'on': 0.16666666666666666,\n",
       " 'sat': 0.16666666666666666}"
      ]
     },
     "execution_count": 12,
     "metadata": {},
     "output_type": "execute_result"
    }
   ],
   "source": [
    "tfBowA = compute_term_frequency(dictA, bowA)\n",
    "tfBowB = compute_term_frequency(dictB, bowB)\n",
    "tfBowA"
   ]
  },
  {
   "cell_type": "markdown",
   "metadata": {},
   "source": [
    "#### Let's start with Calculating Inverse Document Frequency of the Word. \n",
    "\n",
    "The formula to calculate inverse document frequency is:\n",
    "\n",
    "log(Number of documents, Number of documents that contain that word w)"
   ]
  },
  {
   "cell_type": "code",
   "execution_count": 13,
   "metadata": {
    "collapsed": true
   },
   "outputs": [],
   "source": [
    "def compute_inverse_df(doc_list):\n",
    "    import math\n",
    "    # doc_list= [{{'The': 0, 'bed': 0, 'cat': 0, 'dog': 0, 'lap': 0, 'my': 0, 'on': 0, 'sat': 0}}]\n",
    "    no = len(doc_list)\n",
    "    idf_dict = {}\n",
    "    \n",
    "    idf_dict = dict.fromkeys(doc_list[0].keys(),0)\n",
    "    for doc in doc_list:\n",
    "        for word, count in doc.items():\n",
    "            if count > 0:\n",
    "                idf_dict[word] +=1\n",
    "    \n",
    "    for word,count in idf_dict.items():\n",
    "        idf_dict[word] = math.log(no/count)\n",
    "    return idf_dict\n",
    "            \n",
    "    "
   ]
  },
  {
   "cell_type": "code",
   "execution_count": 16,
   "metadata": {
    "collapsed": true
   },
   "outputs": [],
   "source": [
    "idfs = compute_inverse_df([dictA, dictB])"
   ]
  },
  {
   "cell_type": "code",
   "execution_count": 17,
   "metadata": {
    "collapsed": true
   },
   "outputs": [],
   "source": [
    "def compute_TFIDF(tf_bow, idfs):\n",
    "    tfidf={}\n",
    "    for word,count in tf_bow.items():\n",
    "        tfidf[word] = count * idfs[word]\n",
    "    return tfidf\n",
    "        "
   ]
  },
  {
   "cell_type": "code",
   "execution_count": 18,
   "metadata": {
    "collapsed": true
   },
   "outputs": [],
   "source": [
    "tfidfbowA = compute_TFIDF(tfBowA, idfs)\n",
    "tfidfbowB = compute_TFIDF(tfBowB, idfs)"
   ]
  },
  {
   "cell_type": "code",
   "execution_count": 19,
   "metadata": {
    "scrolled": true
   },
   "outputs": [
    {
     "data": {
      "text/html": [
       "<div>\n",
       "<style scoped>\n",
       "    .dataframe tbody tr th:only-of-type {\n",
       "        vertical-align: middle;\n",
       "    }\n",
       "\n",
       "    .dataframe tbody tr th {\n",
       "        vertical-align: top;\n",
       "    }\n",
       "\n",
       "    .dataframe thead th {\n",
       "        text-align: right;\n",
       "    }\n",
       "</style>\n",
       "<table border=\"1\" class=\"dataframe\">\n",
       "  <thead>\n",
       "    <tr style=\"text-align: right;\">\n",
       "      <th></th>\n",
       "      <th>The</th>\n",
       "      <th>bed</th>\n",
       "      <th>cat</th>\n",
       "      <th>dog</th>\n",
       "      <th>lap</th>\n",
       "      <th>my</th>\n",
       "      <th>on</th>\n",
       "      <th>sat</th>\n",
       "    </tr>\n",
       "  </thead>\n",
       "  <tbody>\n",
       "    <tr>\n",
       "      <th>0</th>\n",
       "      <td>0.0</td>\n",
       "      <td>0.000000</td>\n",
       "      <td>0.000000</td>\n",
       "      <td>0.115525</td>\n",
       "      <td>0.115525</td>\n",
       "      <td>0.0</td>\n",
       "      <td>0.0</td>\n",
       "      <td>0.0</td>\n",
       "    </tr>\n",
       "    <tr>\n",
       "      <th>1</th>\n",
       "      <td>0.0</td>\n",
       "      <td>0.115525</td>\n",
       "      <td>0.115525</td>\n",
       "      <td>0.000000</td>\n",
       "      <td>0.000000</td>\n",
       "      <td>0.0</td>\n",
       "      <td>0.0</td>\n",
       "      <td>0.0</td>\n",
       "    </tr>\n",
       "  </tbody>\n",
       "</table>\n",
       "</div>"
      ],
      "text/plain": [
       "   The       bed       cat       dog       lap   my   on  sat\n",
       "0  0.0  0.000000  0.000000  0.115525  0.115525  0.0  0.0  0.0\n",
       "1  0.0  0.115525  0.115525  0.000000  0.000000  0.0  0.0  0.0"
      ]
     },
     "execution_count": 19,
     "metadata": {},
     "output_type": "execute_result"
    }
   ],
   "source": [
    "import pandas as pd\n",
    "pd.DataFrame([tfidfbowA, tfidfbowB])"
   ]
  }
 ],
 "metadata": {
  "kernelspec": {
   "display_name": "Python 3",
   "language": "python",
   "name": "python3"
  },
  "language_info": {
   "codemirror_mode": {
    "name": "ipython",
    "version": 3
   },
   "file_extension": ".py",
   "mimetype": "text/x-python",
   "name": "python",
   "nbconvert_exporter": "python",
   "pygments_lexer": "ipython3",
   "version": "3.6.3"
  }
 },
 "nbformat": 4,
 "nbformat_minor": 2
}
